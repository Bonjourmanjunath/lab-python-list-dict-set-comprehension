{
 "cells": [
  {
   "cell_type": "markdown",
   "id": "25d7736c-ba17-4aff-b6bb-66eba20fbf4e",
   "metadata": {},
   "source": [
    "# Lab | List, Dict and Set Comprehension"
   ]
  },
  {
   "cell_type": "markdown",
   "id": "74650549-369b-49c5-87a9-d95372779492",
   "metadata": {},
   "source": [
    "In the previous exercise, you developed a program to manage customer orders and inventory. Now, let's take it a step further and incorporate comprehension into your code.\n",
    "\n",
    "Follow the steps below to complete the exercise:\n",
    "\n",
    "1. Review your code from the previous exercise and identify areas where you can apply comprehension to simplify and streamline your code. \n",
    "\n",
    "    - *Hint: Apply it to initialize inventory, updating the inventory and printing the updated inventory.*\n",
    "    \n",
    "    - For example, in initializing the inventory, we could have:\n",
    "    \n",
    "        ```python\n",
    "        def initialize_inventory(products):\n",
    "            inventory = {product: int(input(f\"Enter the quantity of {product}s available: \")) for product in products}\n",
    "            return inventory\n",
    "\n",
    "        ```\n",
    "<br>\n",
    "    \n",
    "    \n",
    "2. Modify the function get_customer_orders so it prompts the user to enter the number of customer orders and gathers the product names using a loop and user input. Use comprehension.\n",
    "\n",
    "3. Add a new function to calculate the total price of the customer order. For each product in the customer_orders list, prompt the user to enter the price of that product. Use comprehension to calculate the total price. Note: assume that the user can only have 1 unit of each product.\n",
    "\n",
    "4. Modify the update_inventory function to remove the product from the inventory if its quantity becomes zero after fulfilling the customer orders. Use comprehension to filter out the products with a quantity of zero from the inventory.\n",
    "\n",
    "5. Print the total price of the customer order.\n",
    "\n",
    "Your code should produce output similar to the following:\n",
    "\n",
    "```python\n",
    "Enter the quantity of t-shirts available:  5\n",
    "Enter the quantity of mugs available:  4\n",
    "Enter the quantity of hats available:  3\n",
    "Enter the quantity of books available:  2\n",
    "Enter the quantity of keychains available:  1\n",
    "Enter the number of customer orders:  2\n",
    "Enter the name of a product that a customer wants to order:  hat\n",
    "Enter the name of a product that a customer wants to order:  keychain\n",
    "\n",
    "Order Statistics:\n",
    "Total Products Ordered: 2\n",
    "Unique Products Ordered: 2\n",
    "Percentage of Unique Products Ordered: 40.0\n",
    "\n",
    "Updated Inventory:\n",
    "t-shirt: 5\n",
    "mug: 4\n",
    "hat: 2\n",
    "book: 2\n",
    "Enter the price of keychain:  5\n",
    "Enter the price of hat:  10\n",
    "Total Price: 15.0\n",
    "\n",
    "```\n"
   ]
  },
  {
   "cell_type": "code",
   "execution_count": 12,
   "id": "6c36d225-560f-4253-8657-95cbaaa324fa",
   "metadata": {},
   "outputs": [],
   "source": [
    "#mydict = {'key':'somevalue', 'key2':7}\n",
    "#mydict['key']"
   ]
  },
  {
   "cell_type": "code",
   "execution_count": 28,
   "id": "eef969c1-2a50-4b4f-b8dd-b622f2d954dd",
   "metadata": {},
   "outputs": [
    {
     "name": "stdin",
     "output_type": "stream",
     "text": [
      "Enter the quantity of t-shirts:  10\n",
      "Enter the quantity of mugs:  10\n",
      "Enter the quantity of hats:  10\n",
      "Enter the quantity of bookskeychains available:  10\n"
     ]
    }
   ],
   "source": [
    "def initialize_inventory(products):\n",
    "    \n",
    "    inventory = {product: int(input(f\"Enter the quantity of {product}: \")) for product in products}\n",
    "    return inventory\n",
    "\n",
    "products = ['t-shirts', 'mugs', 'hats', 'books''keychains available']\n",
    "inventory = initialize_inventory(products)"
   ]
  },
  {
   "cell_type": "raw",
   "id": "6edac7f7-d271-4ac1-bd35-d84a3878ba06",
   "metadata": {},
   "source": [
    "Modify the function get_customer_orders so it prompts the user to enter the number of customer orders and gathers the product names using a loop and user input. Use comprehension."
   ]
  },
  {
   "cell_type": "code",
   "execution_count": null,
   "id": "7ea88c06-0531-4317-8149-77ad8745640e",
   "metadata": {},
   "outputs": [],
   "source": [
    "def get_customer_orders():\n",
    "    customer_orders = set()\n",
    "    done = False\n",
    "\n",
    "    while not done:\n",
    "        for _ in range(1):\n",
    "            product = input(\"Enter a product (or 'done' to finish): \")\n",
    "            if product == 'done':\n",
    "                done = True\n",
    "                break\n",
    "            customer_orders.add(product)\n",
    "    return customer_orders"
   ]
  },
  {
   "cell_type": "code",
   "execution_count": 44,
   "id": "2395220f-a65d-4d66-ad49-50675ae2044b",
   "metadata": {},
   "outputs": [],
   "source": [
    "def get_customer_orders():\n",
    "    customer_orders = set()\n",
    "    done = False\n",
    "\n",
    "    while not done:\n",
    "        product = input(\"Enter a product (or 'done' to finish): \")\n",
    "        if product == 'done':\n",
    "            done = True\n",
    "        else:\n",
    "            customer_orders.add(product)\n",
    "    \n",
    "    return customer_orders"
   ]
  },
  {
   "cell_type": "code",
   "execution_count": null,
   "id": "b84e5385-ae1f-423d-9e7d-6672403db3b5",
   "metadata": {},
   "outputs": [],
   "source": [
    "#Define a function named update_inventory that takes customer_orders and inventory as parameters. \n",
    "#Inside the function, implement the code for updating the inventory dictionary based on the customer \n",
    "#orders.\n",
    "\n"
   ]
  },
  {
   "cell_type": "code",
   "execution_count": 20,
   "id": "de73d390-bb70-41b4-8a92-7ea93a2b98e4",
   "metadata": {},
   "outputs": [
    {
     "name": "stdout",
     "output_type": "stream",
     "text": [
      "test in dict\n"
     ]
    }
   ],
   "source": [
    "if 'test' in {'test':8}:\n",
    "    print('test in dict')"
   ]
  },
  {
   "cell_type": "code",
   "execution_count": 36,
   "id": "ba36c7de-88d0-467c-83ec-0747766c89a9",
   "metadata": {},
   "outputs": [],
   "source": [
    "def update_inventory(customer_orders, inventory):\n",
    "\n",
    "    #inventory = {product: int(input(f\"Enter the quantity of {product}: \")) for product in products}\n",
    "    inventory = {product: quantity - 1 if product in customer_orders else quantity for product, quantity in inventory.items()}\n",
    "    return inventory\n"
   ]
  },
  {
   "cell_type": "code",
   "execution_count": 33,
   "id": "33a60696-8c54-4106-8d96-00655c71f72b",
   "metadata": {},
   "outputs": [
    {
     "data": {
      "text/plain": [
       "{'t-shirts': 10, 'mugs': 10, 'hats': 10, 'bookskeychains available': 10}"
      ]
     },
     "execution_count": 33,
     "metadata": {},
     "output_type": "execute_result"
    }
   ],
   "source": [
    "inventory"
   ]
  },
  {
   "cell_type": "code",
   "execution_count": 32,
   "id": "54049b83-7292-4d21-bcba-ec774a450b67",
   "metadata": {},
   "outputs": [
    {
     "data": {
      "text/plain": [
       "dict_keys(['t-shirts', 'mugs', 'hats', 'bookskeychains available'])"
      ]
     },
     "execution_count": 32,
     "metadata": {},
     "output_type": "execute_result"
    }
   ],
   "source": [
    "inventory.keys()"
   ]
  },
  {
   "cell_type": "code",
   "execution_count": 34,
   "id": "f909b35f-a713-4aeb-9e88-622d25c2ce12",
   "metadata": {},
   "outputs": [
    {
     "data": {
      "text/plain": [
       "dict_values([10, 10, 10, 10])"
      ]
     },
     "execution_count": 34,
     "metadata": {},
     "output_type": "execute_result"
    }
   ],
   "source": [
    "inventory.values()"
   ]
  },
  {
   "cell_type": "code",
   "execution_count": 35,
   "id": "e4082189-0328-4d68-bdae-707441cfd8a1",
   "metadata": {},
   "outputs": [
    {
     "data": {
      "text/plain": [
       "dict_items([('t-shirts', 10), ('mugs', 10), ('hats', 10), ('bookskeychains available', 10)])"
      ]
     },
     "execution_count": 35,
     "metadata": {},
     "output_type": "execute_result"
    }
   ],
   "source": [
    "inventory.items()"
   ]
  },
  {
   "cell_type": "code",
   "execution_count": 40,
   "id": "225b22a7-8a53-4b33-8d9c-f322d1f438da",
   "metadata": {},
   "outputs": [
    {
     "name": "stdin",
     "output_type": "stream",
     "text": [
      "Enter a product (or 'done' to finish):  hats\n",
      "Enter a product (or 'done' to finish):  done\n"
     ]
    }
   ],
   "source": [
    "def get_customer_orders():\n",
    "    customer_orders = set()\n",
    "    while True:\n",
    "        product = input(\"Enter a product (or 'done' to finish): \")\n",
    "        if product == 'done':\n",
    "            break\n",
    "        customer_orders.add(product)\n",
    "    return customer_orders\n",
    "\n",
    "customer_orders = get_customer_orders()\n",
    "inventory = update_inventory(customer_orders, inventory)\n",
    "inventory"
   ]
  },
  {
   "cell_type": "code",
   "execution_count": 42,
   "id": "b067a532-d45f-4ebc-bfd0-f7896b20f58f",
   "metadata": {},
   "outputs": [],
   "source": [
    "def calculate_order_statistics(customer_orders, products):\n",
    "    total_products_ordered = len(customer_orders)\n",
    "    unique_products_ordered = len(set(customer_orders))\n",
    "    percentage_unique_products = (unique_products_ordered / len(products)) * 100\n",
    "    return total_products_ordered, unique_products_ordered, percentage_unique_products\n",
    "order_statistics = calculate_order_statistics(customer_orders, products)"
   ]
  },
  {
   "cell_type": "code",
   "execution_count": 43,
   "id": "9e62bc16-195e-4dba-9954-3d80ce16555d",
   "metadata": {},
   "outputs": [
    {
     "name": "stdout",
     "output_type": "stream",
     "text": [
      "Updated Inventory:\n",
      "t-shirts: 10\n",
      "mugs: 10\n",
      "hats: 8\n",
      "bookskeychains available: 10\n"
     ]
    }
   ],
   "source": [
    "def print_updated_inventory(inventory):\n",
    "    print(\"Updated Inventory:\")\n",
    "    [print(f\"{product}: {quantity}\") for product, quantity in inventory.items()]\n",
    "       \n",
    "print_updated_inventory(inventory)\n"
   ]
  },
  {
   "cell_type": "code",
   "execution_count": 1,
   "id": "729a4d4c-e2dd-492d-8561-d30d40b05ec1",
   "metadata": {},
   "outputs": [
    {
     "ename": "NameError",
     "evalue": "name 'order_statistics' is not defined",
     "output_type": "error",
     "traceback": [
      "\u001b[0;31m---------------------------------------------------------------------------\u001b[0m",
      "\u001b[0;31mNameError\u001b[0m                                 Traceback (most recent call last)",
      "Cell \u001b[0;32mIn[1], line 9\u001b[0m\n\u001b[1;32m      6\u001b[0m     \u001b[38;5;28mprint\u001b[39m(\u001b[38;5;124mf\u001b[39m\u001b[38;5;124m\"\u001b[39m\u001b[38;5;124mUnique products ordered: \u001b[39m\u001b[38;5;132;01m{\u001b[39;00munique_products_ordered\u001b[38;5;132;01m}\u001b[39;00m\u001b[38;5;124m\"\u001b[39m)\n\u001b[1;32m      7\u001b[0m     \u001b[38;5;28mprint\u001b[39m(\u001b[38;5;124mf\u001b[39m\u001b[38;5;124m\"\u001b[39m\u001b[38;5;124mPercentage of unique products ordered: \u001b[39m\u001b[38;5;132;01m{\u001b[39;00mpercentage_unique_products\u001b[38;5;132;01m}\u001b[39;00m\u001b[38;5;124m %\u001b[39m\u001b[38;5;124m\"\u001b[39m)\n\u001b[0;32m----> 9\u001b[0m print_order_statistics(\u001b[43morder_statistics\u001b[49m)\n",
      "\u001b[0;31mNameError\u001b[0m: name 'order_statistics' is not defined"
     ]
    }
   ],
   "source": [
    "def print_order_statistics(order_statistics):\n",
    "    total_products_ordered, unique_products_ordered, percentage_unique_products = order_statistics\n",
    "    print(\"Order Statistics:\")\n",
    "    print(f\"Total products ordered: {total_products_ordered}\")\n",
    "    print(\"Total products ordered:\", total_products_ordered )\n",
    "    print(f\"Unique products ordered: {unique_products_ordered}\")\n",
    "    print(f\"Percentage of unique products ordered: {percentage_unique_products} %\")\n",
    "    \n",
    "print_order_statistics(order_statistics)\n",
    "    "
   ]
  },
  {
   "cell_type": "code",
   "execution_count": null,
   "id": "009cd8f3-52e5-4186-bef6-e64dd88b670d",
   "metadata": {},
   "outputs": [],
   "source": [
    " Answer = input('Do you want to play with the computer')"
   ]
  },
  {
   "cell_type": "code",
   "execution_count": null,
   "id": "470bbf06-de5d-403e-92d0-0bbbe107d2a9",
   "metadata": {},
   "outputs": [],
   "source": [
    "Answer = input('Do you want to play with the computer')\n",
    "\n",
    "if answer = Yes\n",
    "\n"
   ]
  }
 ],
 "metadata": {
  "kernelspec": {
   "display_name": "Python 3 (ipykernel)",
   "language": "python",
   "name": "python3"
  },
  "language_info": {
   "codemirror_mode": {
    "name": "ipython",
    "version": 3
   },
   "file_extension": ".py",
   "mimetype": "text/x-python",
   "name": "python",
   "nbconvert_exporter": "python",
   "pygments_lexer": "ipython3",
   "version": "3.10.9"
  }
 },
 "nbformat": 4,
 "nbformat_minor": 5
}
