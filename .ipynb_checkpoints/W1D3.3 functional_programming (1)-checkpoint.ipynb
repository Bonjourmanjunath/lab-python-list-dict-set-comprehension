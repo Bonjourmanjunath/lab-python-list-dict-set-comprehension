{
 "cells": [
  {
   "cell_type": "markdown",
   "id": "52587d95-58c8-4ddc-b25c-51d8c1d223dd",
   "metadata": {},
   "source": [
    "### procedural programming\n",
    "\n",
    "_we've touched on this so lets define it together_"
   ]
  },
  {
   "cell_type": "markdown",
   "id": "51e89e05-c7b6-4e64-b271-4fd6cd2a0520",
   "metadata": {},
   "source": [
    "### functional programming\n",
    "\n",
    "_likewise, lets define it together_"
   ]
  },
  {
   "cell_type": "code",
   "execution_count": 60,
   "id": "bdfe9bb0-c6bc-40c2-98b9-cd155138f062",
   "metadata": {},
   "outputs": [],
   "source": [
    "# example function definition\n",
    "\n",
    "def eat_me(lst_of_foods, number_to_eat):\n",
    "    for i in range(number_to_eat):\n",
    "        lst_of_foods.pop()\n",
    "    number_to_eat = 0\n",
    "    return lst_of_foods"
   ]
  },
  {
   "cell_type": "code",
   "execution_count": 61,
   "id": "38233dc1-d1cf-4e1f-b281-70ada7ca07c5",
   "metadata": {},
   "outputs": [],
   "source": [
    "# example of calling a function\n",
    "\n",
    "foods = ['Banana','Apple','Lasagna','Broccoli','Grapes','Bread','Beans on Toast']\n",
    "food_items_to_eat = 3\n",
    "eat_me(foods, food_items_to_eat)"
   ]
  },
  {
   "cell_type": "code",
   "execution_count": 81,
   "id": "71ea35b2-24a9-4171-814d-0f9a036435d2",
   "metadata": {},
   "outputs": [],
   "source": [
    "# We've not included any error handling, how can we generate error when calling this function\n"
   ]
  },
  {
   "cell_type": "code",
   "execution_count": 80,
   "id": "fe852577-9594-4d36-b20a-b94d3ff5c4e1",
   "metadata": {},
   "outputs": [],
   "source": [
    "# what is going on with the original variable and the parameter in a function...\n"
   ]
  },
  {
   "cell_type": "code",
   "execution_count": 67,
   "id": "109df7ab-1f75-4b9f-b99b-85624807ebbe",
   "metadata": {
    "tags": []
   },
   "outputs": [],
   "source": [
    "# special parameters: *argv   **kwargs\n"
   ]
  },
  {
   "cell_type": "code",
   "execution_count": 64,
   "id": "df3d1cf6-f6d0-4324-b239-783c8638ceb9",
   "metadata": {},
   "outputs": [],
   "source": [
    "# global vs local variables \n"
   ]
  }
 ],
 "metadata": {
  "kernelspec": {
   "display_name": "Python 3 (ipykernel)",
   "language": "python",
   "name": "python3"
  },
  "language_info": {
   "codemirror_mode": {
    "name": "ipython",
    "version": 3
   },
   "file_extension": ".py",
   "mimetype": "text/x-python",
   "name": "python",
   "nbconvert_exporter": "python",
   "pygments_lexer": "ipython3",
   "version": "3.9.13"
  }
 },
 "nbformat": 4,
 "nbformat_minor": 5
}
